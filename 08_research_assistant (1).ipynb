{
  "cells": [
    {
      "cell_type": "markdown",
      "metadata": {
        "id": "ywQ1ZnhXJ1FP"
      },
      "source": [
        "# Research Assistant Agent Team : Creating Wikipedia-like articles from scratch with LLMs\n",
        "\n",
        "This notebook implements this notebook using LangGraph:\n",
        "- *Shao et al*, 2024. <a href=\"https://arxiv.org/pdf/2402.14207\" target=\"_blank\">Assisting in Writing Wikipedia-like Articles From Scratch\n",
        "with Large Language Models</a>.\n"
      ]
    },
    {
      "cell_type": "code",
      "execution_count": null,
      "metadata": {
        "id": "i013VYFiJ1FP",
        "outputId": "ef7b08ee-193a-43ee-d269-e4b02fa8e616"
      },
      "outputs": [
        {
          "data": {
            "text/plain": [
              "True"
            ]
          },
          "execution_count": 3,
          "metadata": {},
          "output_type": "execute_result"
        }
      ],
      "source": [
        "# Research assistant\n",
        "\n",
        "from dotenv import load_dotenv\n",
        "\n",
        "load_dotenv(\"../.env\")"
      ]
    },
    {
      "cell_type": "code",
      "execution_count": null,
      "metadata": {
        "id": "DYY0O9PjJ1FQ"
      },
      "outputs": [],
      "source": [
        "import os\n",
        "\n",
        "PROJECT_NAME = \"Research Assistant\"\n",
        "\n",
        "os.environ[\"LANGCHAIN_PROJECT\"] = PROJECT_NAME"
      ]
    },
    {
      "cell_type": "code",
      "execution_count": null,
      "metadata": {
        "id": "zi3JmY1YJ1FQ"
      },
      "outputs": [],
      "source": [
        "import getpass\n",
        "\n",
        "if \"OPENAI_API_KEY\" not in os.environ:\n",
        "    os.environ[\"OPENAI_API_KEY\"] = getpass.getpass(\"Enter your OpenAI API key: \")"
      ]
    },
    {
      "cell_type": "code",
      "execution_count": null,
      "metadata": {
        "id": "6GYv2ViQJ1FQ"
      },
      "outputs": [],
      "source": [
        "from langchain_groq import ChatGroq\n",
        "from langchain_openai import ChatOpenAI\n",
        "\n",
        "#llm = ChatGroq(model=\"llama3-groq-70b-8192-tool-use-preview\", temperature=0.2)\n",
        "llm = ChatOpenAI(model=\"gpt-4o-mini\", temperature=0.2)"
      ]
    },
    {
      "cell_type": "markdown",
      "metadata": {
        "id": "lwjbgj7OJ1FR"
      },
      "source": [
        "## Generate Agents (Analysts)"
      ]
    },
    {
      "cell_type": "markdown",
      "metadata": {
        "id": "7ZPjP5T7J1FR"
      },
      "source": [
        "### Models and State\n",
        "\n",
        "We will use a team of agents who will perform the research that we need. Each agent will be an expert in a specific field and will have a role, affiliation, and description. Creating a Model for the agents will help us query the LLM with structured output.\n",
        "For example, if we wanted to research the topic of \"The Apollo Missions\", one of the agents could be a Space Exploration Engineer who is an expert in the technical aspects of the Apollo missions. Like this:\n",
        "\n",
        "```json\n",
        "{\n",
        "  \"Name\": \"Dr. John Lee\",\n",
        "  \"Role\": \"Technical Expert\",\n",
        "  \"Affiliation\": \"Space Exploration Engineer\",\n",
        "  \"Description\": \"Concerned with the technical aspects of the Apollo missions, including the design and development of the spacecraft and rockets.\"\n",
        "}\n",
        "```\n",
        "\n",
        "Let's create the model for the agents so we always have a structured output."
      ]
    },
    {
      "cell_type": "code",
      "execution_count": null,
      "metadata": {
        "id": "XyETEL_-J1FR"
      },
      "outputs": [],
      "source": [
        "from typing import List\n",
        "from typing_extensions import TypedDict\n",
        "from pydantic import BaseModel, Field\n",
        "\n",
        "class Analyst(BaseModel):\n",
        "    affiliation: str = Field(\n",
        "      description=\"Primary affiliation of the analyst\"\n",
        "    )\n",
        "    name: str = Field(\n",
        "        description=\"Name of the analyst.\"\n",
        "    )\n",
        "    role: str = Field(\n",
        "        description=\"Role of the analyst in the context of the topic.\",\n",
        "    )\n",
        "    description: str = Field(\n",
        "        description=\"Description of the analyst focus, concerns, and motives.\",\n",
        "    )\n",
        "    @property\n",
        "    def persona(self) -> str:\n",
        "        return f\"Name: {self.name}\\nRole: {self.role}\\nAffiliation: {self.affiliation}\\nDescription: {self.description}\"\n",
        "\n",
        "class AnalystTeam(BaseModel):\n",
        "    analysts: List[Analyst] = Field(\n",
        "      description=\"List of analysts with their roles, affiliations, and descriptions.\"\n",
        "    )\n",
        "\n",
        "class GenerateAnalystsState(TypedDict):\n",
        "    topic: str\n",
        "    max_analysts: int\n",
        "    human_feedback: str\n",
        "    analysts: List[Analyst]"
      ]
    },
    {
      "cell_type": "markdown",
      "metadata": {
        "id": "plGvKNgaJ1FR"
      },
      "source": [
        "### Nodes, edges and graph\n",
        "\n",
        "We will create a graph that will generate the agents of the team. There will be two main nodes in this graph:\n",
        "- Generate Analysts: Will generate the agents of the team given the topic of research.\n",
        "- Human Feedback: Will receive feedback from the user about the agents generated. If there is any feedback, the graph will go back to the Generate Analysts node and generate a new team of agents."
      ]
    },
    {
      "cell_type": "code",
      "execution_count": null,
      "metadata": {
        "id": "N-xRbt54J1FR"
      },
      "outputs": [],
      "source": [
        "# generate the analysts node\n",
        "\n",
        "from IPython.display import Image, display\n",
        "from textwrap import dedent\n",
        "from langchain_core.prompts import ChatPromptTemplate\n",
        "from langgraph.graph import END, START, StateGraph\n",
        "from langgraph.checkpoint.memory import MemorySaver\n",
        "\n",
        "analyst_system_message = dedent(\"\"\"\n",
        "You are tasked with creating a set of AI analyst personas. Follow these instructions carefully:\n",
        "\n",
        "1. First, review the research topic:\n",
        "{topic}\n",
        "\n",
        "2. Examine any editorial feedback that has been optionally provided to guide creation of the analysts:\n",
        "{human_feedback}\n",
        "\n",
        "3. Determine the most interesting themes based upon documents and / or feedback above.\n",
        "\n",
        "4. Pick the top {max_analysts} themes.\n",
        "\n",
        "5. Assign one analyst to each theme.\n",
        "\"\"\")\n",
        "\n",
        "def generate_analysts(state: GenerateAnalystsState) -> GenerateAnalystsState:\n",
        "    topic = state.get('topic')\n",
        "    max_analysts = state.get('max_analysts')\n",
        "    human_feedback = state.get('human_feedback', '')\n",
        "\n",
        "    prompt = ChatPromptTemplate.from_messages([\n",
        "      ('system', analyst_system_message),\n",
        "      ('human', 'Generate  set of analysts')\n",
        "    ])\n",
        "\n",
        "    structured_llm = llm.with_structured_output(AnalystTeam)\n",
        "\n",
        "    chain = (prompt | structured_llm)\n",
        "\n",
        "    result = chain.invoke({\n",
        "      'topic': topic,\n",
        "      'human_feedback': human_feedback,\n",
        "      'max_analysts': max_analysts\n",
        "    })\n",
        "\n",
        "    return {\"analysts\": result.analysts}"
      ]
    },
    {
      "cell_type": "code",
      "execution_count": null,
      "metadata": {
        "id": "-yBTp3FUJ1FR",
        "outputId": "f9aae61e-e417-4fdc-d5c0-1339feafa078"
      },
      "outputs": [
        {
          "name": "stdout",
          "output_type": "stream",
          "text": [
            "Name: Dr. Emily Carter\n",
            "Role: Space Exploration Historian\n",
            "Affiliation: NASA\n",
            "Description: Dr. Carter specializes in the historical impact of space missions on technological advancements and public interest in space exploration. Her focus is on how the Apollo Missions inspired future generations of scientists and engineers.\n",
            "\n",
            "\n",
            "Name: Prof. James Liu\n",
            "Role: Astrophysics Researcher\n",
            "Affiliation: MIT\n",
            "Description: Prof. Liu conducts research on the scientific discoveries made during the Apollo Missions and their implications for future space exploration. He is particularly interested in the advancements in lunar science and how they have shaped our understanding of the solar system.\n",
            "\n",
            "\n",
            "Name: Ms. Sarah Thompson\n",
            "Role: Space Policy Analyst\n",
            "Affiliation: Space Policy Institute\n",
            "Description: Ms. Thompson analyzes the policy implications of the Apollo Missions on international space cooperation and funding for future missions. Her work focuses on how the Apollo program set the stage for collaborative efforts in space exploration and the development of space law.\n",
            "\n",
            "\n"
          ]
        }
      ],
      "source": [
        "# test the generate_analysts node\n",
        "\n",
        "TOPIC = \"The effects of the Apollo Missions on Space Exploration\"\n",
        "\n",
        "test_state = GenerateAnalystsState(\n",
        "  topic=TOPIC,\n",
        "  max_analysts=3,\n",
        "  human_feedback=\"\",\n",
        "  analysts=[]\n",
        ")\n",
        "analysts = generate_analysts(test_state)\n",
        "\n",
        "for a in analysts['analysts']:\n",
        "    print(a.persona)\n",
        "    print(\"\\n\")"
      ]
    },
    {
      "cell_type": "code",
      "execution_count": null,
      "metadata": {
        "id": "gL1pnI3lJ1FS"
      },
      "outputs": [],
      "source": [
        "# human feedback node (will interrupt the flow and ask for feedback)\n",
        "\n",
        "def get_human_feedback(state: GenerateAnalystsState):\n",
        "    pass\n",
        "\n",
        "# edge\n",
        "def should_continue(state: GenerateAnalystsState):\n",
        "    \"\"\"\n",
        "    Check if there is human feedback. If there is, go back to generate_analysts, otherwise go to END.\n",
        "    \"\"\"\n",
        "    human_feedback = state.get('human_feedback', None)\n",
        "    if human_feedback:\n",
        "        return \"generate_analysts\"\n",
        "    else:\n",
        "        return END"
      ]
    },
    {
      "cell_type": "code",
      "execution_count": null,
      "metadata": {
        "id": "AO1i7B3wJ1FS",
        "outputId": "e7729b85-89ec-48da-e8cc-e1efde17b5fc"
      },
      "outputs": [
        {
          "data": {
            "image/png": "[encoded data removed]",
            "text/plain": [
              "<IPython.core.display.Image object>"
            ]
          },
          "metadata": {},
          "output_type": "display_data"
        }
      ],
      "source": [
        "# build graph\n",
        "\n",
        "builder = StateGraph(GenerateAnalystsState)\n",
        "builder.add_node(\"generate_analysts\", generate_analysts)\n",
        "builder.add_node(\"get_human_feedback\", get_human_feedback)\n",
        "\n",
        "builder.add_edge(START, \"generate_analysts\")\n",
        "builder.add_edge(\"generate_analysts\", \"get_human_feedback\")\n",
        "builder.add_conditional_edges(\"get_human_feedback\", should_continue, [\"generate_analysts\", END])\n",
        "\n",
        "# compile\n",
        "memory = MemorySaver()\n",
        "graph = builder.compile(interrupt_before=[\"get_human_feedback\"], checkpointer=memory)\n",
        "\n",
        "# diagram\n",
        "display(Image(graph.get_graph(xray=1).draw_mermaid_png()))"
      ]
    },
    {
      "cell_type": "markdown",
      "metadata": {
        "id": "kJBWsvOiJ1FS"
      },
      "source": [
        "### Test the graph\n",
        "\n",
        "Now it is time to test the graph. We will start by generating the agents for the topic \"The Apollo Missions\".\n",
        "This will take us to the Human Feedback node where we can provide feedback on the agents generated. If we are not satisfied with the agents, we can go back to the Generate Analysts node and generate a new team of agents.\n",
        "\n",
        "Note that it is very important to have enabled a checkpointer in the graph so we can re-run the graph on the same thread."
      ]
    },
    {
      "cell_type": "code",
      "execution_count": null,
      "metadata": {
        "id": "C5HLc6ekJ1FS",
        "outputId": "6706dd72-ad75-4a33-98c9-4c3b64798090"
      },
      "outputs": [
        {
          "name": "stdout",
          "output_type": "stream",
          "text": [
            "Name: Dr. Emily Carter\n",
            "Role: Space Historian\n",
            "Affiliation: NASA\n",
            "Description: Dr. Carter specializes in the historical significance of space missions, focusing on how the Apollo program shaped modern space exploration policies and international cooperation.\n",
            "\n",
            "\n",
            "Name: Prof. James Liu\n",
            "Role: Astrophysicist\n",
            "Affiliation: MIT\n",
            "Description: Prof. Liu conducts research on the technological advancements stemming from the Apollo missions, analyzing their influence on current and future space exploration technologies.\n",
            "\n",
            "\n",
            "Name: Dr. Sarah Thompson\n",
            "Role: Sociologist of Science\n",
            "Affiliation: Harvard University\n",
            "Description: Dr. Thompson examines the societal impacts of the Apollo missions, including public perception of space exploration and its role in inspiring future generations of scientists and engineers.\n",
            "\n",
            "\n"
          ]
        }
      ],
      "source": [
        "# test the graph\n",
        "THREAD_ID = \"42\"\n",
        "\n",
        "max_analysts = 3\n",
        "topic = \"The Apollo Missions Impact on Space Exploration\"\n",
        "config = {\"configurable\": {\"thread_id\": THREAD_ID}}\n",
        "\n",
        "for event in graph.stream(\n",
        "  {\"topic\": topic,\"max_analysts\": max_analysts},\n",
        "  config=config,\n",
        "  stream_mode=\"values\"):\n",
        "    analysts = event.get('analysts', [])\n",
        "    for a in analysts:\n",
        "        print(a.persona)\n",
        "        print(\"\\n\")"
      ]
    },
    {
      "cell_type": "code",
      "execution_count": null,
      "metadata": {
        "id": "3btWiHlrJ1FS",
        "outputId": "99a9a58b-99ba-4df5-8049-f869e0ae3a43"
      },
      "outputs": [
        {
          "data": {
            "text/plain": [
              "('get_human_feedback',)"
            ]
          },
          "execution_count": 13,
          "metadata": {},
          "output_type": "execute_result"
        }
      ],
      "source": [
        "# check the state. we interrupted the flow before the human feedback node\n",
        "\n",
        "state = graph.get_state(config=config)\n",
        "state.next"
      ]
    },
    {
      "cell_type": "code",
      "execution_count": null,
      "metadata": {
        "id": "i5Hp6O8YJ1FS",
        "outputId": "636f7ef7-acce-4905-9e3d-c9dfdab9a0b3"
      },
      "outputs": [
        {
          "name": "stdout",
          "output_type": "stream",
          "text": [
            "feedback: Replace Sarah with someone from ESA\n"
          ]
        },
        {
          "data": {
            "text/plain": [
              "{'configurable': {'thread_id': '42',\n",
              "  'checkpoint_ns': '',\n",
              "  'checkpoint_id': '1efb6b31-d787-6760-8002-64c436b61c16'}}"
            ]
          },
          "execution_count": 14,
          "metadata": {},
          "output_type": "execute_result"
        }
      ],
      "source": [
        "# update the state with human feedback\n",
        "\n",
        "HUMAN_FEEDBACK = \"Replace Sarah with someone from ESA\"\n",
        "\n",
        "print(\"feedback:\", HUMAN_FEEDBACK)\n",
        "\n",
        "graph.update_state(\n",
        "  config=config,\n",
        "  values={\"human_feedback\": HUMAN_FEEDBACK},\n",
        "  as_node=\"get_human_feedback\")"
      ]
    },
    {
      "cell_type": "code",
      "execution_count": null,
      "metadata": {
        "id": "X4pUhuPAJ1FS",
        "outputId": "b362bec7-6124-4881-cd9f-ab23f9ea0a51"
      },
      "outputs": [
        {
          "data": {
            "text/plain": [
              "('generate_analysts',)"
            ]
          },
          "execution_count": 15,
          "metadata": {},
          "output_type": "execute_result"
        }
      ],
      "source": [
        "# what is next?\n",
        "\n",
        "state = graph.get_state(config=config)\n",
        "state.next"
      ]
    },
    {
      "cell_type": "code",
      "execution_count": null,
      "metadata": {
        "id": "a4E2z14vJ1FS",
        "outputId": "b067695b-4a5a-414b-ee58-b236957e81af"
      },
      "outputs": [
        {
          "name": "stdout",
          "output_type": "stream",
          "text": [
            "{'topic': 'The Apollo Missions Impact on Space Exploration', 'max_analysts': 3, 'human_feedback': 'Replace Sarah with someone from ESA', 'analysts': [Analyst(affiliation='NASA', name='Dr. Emily Carter', role='Space Historian', description='Dr. Carter specializes in the historical significance of space missions, focusing on how the Apollo program shaped modern space exploration policies and international cooperation.'), Analyst(affiliation='MIT', name='Prof. James Liu', role='Astrophysicist', description='Prof. Liu conducts research on the technological advancements stemming from the Apollo missions, analyzing their influence on current and future space exploration technologies.'), Analyst(affiliation='Harvard University', name='Dr. Sarah Thompson', role='Sociologist of Science', description='Dr. Thompson examines the societal impacts of the Apollo missions, including public perception of space exploration and its role in inspiring future generations of scientists and engineers.')]}\n",
            "--------------------\n",
            "{'topic': 'The Apollo Missions Impact on Space Exploration', 'max_analysts': 3, 'human_feedback': 'Replace Sarah with someone from ESA', 'analysts': [Analyst(affiliation='NASA', name='Dr. Emily Carter', role='Space Policy Analyst', description='Dr. Carter focuses on the policy implications of the Apollo Missions and their influence on current space exploration strategies. She is particularly interested in how historical missions shape international collaboration in space.'), Analyst(affiliation='European Space Agency (ESA)', name='Dr. Marco Rossi', role='Space History Researcher', description=\"Dr. Rossi specializes in the historical impact of the Apollo Missions on European space initiatives. He examines how these missions inspired ESA's programs and contributed to the development of European space technology.\"), Analyst(affiliation='SpaceX', name='Ms. Jessica Lin', role='Commercial Space Analyst', description=\"Ms. Lin analyzes the commercial implications of the Apollo Missions on today's private space sector. She explores how the legacy of Apollo has influenced current commercial space endeavors and the future of human spaceflight.\")]}\n",
            "--------------------\n"
          ]
        }
      ],
      "source": [
        "# to continue with the graph execution, we rerun the graph with None as input state\n",
        "for event in graph.stream(None, config=config, stream_mode=\"values\"):\n",
        "    print(event)\n",
        "    print(\"-\" * 20)"
      ]
    },
    {
      "cell_type": "code",
      "execution_count": null,
      "metadata": {
        "id": "frQ4Y7YKJ1FS",
        "outputId": "254c80c4-028b-422c-810b-8300c0ec9c36"
      },
      "outputs": [
        {
          "name": "stdout",
          "output_type": "stream",
          "text": [
            "Name: Dr. Emily Carter\n",
            "Role: Space Policy Analyst\n",
            "Affiliation: NASA\n",
            "Description: Dr. Carter focuses on the policy implications of the Apollo Missions and their influence on current space exploration strategies. She is particularly interested in how historical missions shape international collaboration in space.\n",
            "\n",
            "\n",
            "Name: Dr. Marco Rossi\n",
            "Role: Space History Researcher\n",
            "Affiliation: European Space Agency (ESA)\n",
            "Description: Dr. Rossi specializes in the historical impact of the Apollo Missions on European space initiatives. He examines how these missions inspired ESA's programs and contributed to the development of European space technology.\n",
            "\n",
            "\n",
            "Name: Ms. Jessica Lin\n",
            "Role: Commercial Space Analyst\n",
            "Affiliation: SpaceX\n",
            "Description: Ms. Lin analyzes the commercial implications of the Apollo Missions on today's private space sector. She explores how the legacy of Apollo has influenced current commercial space endeavors and the future of human spaceflight.\n",
            "\n",
            "\n",
            "Next step: ('get_human_feedback',)\n"
          ]
        }
      ],
      "source": [
        "# check the analysts now\n",
        "state = graph.get_state(config=config)\n",
        "\n",
        "for a in state.values.get('analysts'):\n",
        "    print(a.persona)\n",
        "    print(\"\\n\")\n",
        "\n",
        "# next steps\n",
        "print(\"Next step:\", state.next)"
      ]
    },
    {
      "cell_type": "code",
      "execution_count": null,
      "metadata": {
        "id": "fvgFbv3XJ1FS",
        "outputId": "23595ab3-a6bc-493d-e2d4-b91608e3802e"
      },
      "outputs": [
        {
          "name": "stdout",
          "output_type": "stream",
          "text": [
            "feedback: None\n"
          ]
        },
        {
          "data": {
            "text/plain": [
              "{'configurable': {'thread_id': '42',\n",
              "  'checkpoint_ns': '',\n",
              "  'checkpoint_id': '1efb6b37-19d8-6272-8004-7ae35c1a4344'}}"
            ]
          },
          "execution_count": 18,
          "metadata": {},
          "output_type": "execute_result"
        }
      ],
      "source": [
        "# remember that the conditional edge will go to end if we provide no feedback\n",
        "\n",
        "HUMAN_FEEDBACK = None\n",
        "\n",
        "print(\"feedback:\", HUMAN_FEEDBACK)\n",
        "\n",
        "graph.update_state(\n",
        "  config=config,\n",
        "  values={\"human_feedback\": HUMAN_FEEDBACK},\n",
        "  as_node=\"get_human_feedback\")"
      ]
    },
    {
      "cell_type": "code",
      "execution_count": null,
      "metadata": {
        "id": "Aac43T2kJ1FT",
        "outputId": "4cc1c931-3ff1-4a00-bf76-62841371df47"
      },
      "outputs": [
        {
          "name": "stdout",
          "output_type": "stream",
          "text": [
            "Next step: ()\n"
          ]
        }
      ],
      "source": [
        "# next steps\n",
        "\n",
        "state = graph.get_state(config=config)\n",
        "print(\"Next step:\", state.next)"
      ]
    },
    {
      "cell_type": "code",
      "execution_count": null,
      "metadata": {
        "id": "o2_K_Pg6J1FT",
        "outputId": "d7ca282a-06f2-474d-91ac-9435ea4c153e"
      },
      "outputs": [
        {
          "name": "stdout",
          "output_type": "stream",
          "text": [
            "Name: Dr. Emily Carter\n",
            "Role: Space Policy Analyst\n",
            "Affiliation: NASA\n",
            "Description: Dr. Carter focuses on the policy implications of the Apollo Missions and their influence on current space exploration strategies. She is particularly interested in how historical missions shape international collaboration in space.\n",
            "\n",
            "\n",
            "Name: Dr. Marco Rossi\n",
            "Role: Space History Researcher\n",
            "Affiliation: European Space Agency (ESA)\n",
            "Description: Dr. Rossi specializes in the historical impact of the Apollo Missions on European space initiatives. He examines how these missions inspired ESA's programs and contributed to the development of European space technology.\n",
            "\n",
            "\n",
            "Name: Ms. Jessica Lin\n",
            "Role: Commercial Space Analyst\n",
            "Affiliation: SpaceX\n",
            "Description: Ms. Lin analyzes the commercial implications of the Apollo Missions on today's private space sector. She explores how the legacy of Apollo has influenced current commercial space endeavors and the future of human spaceflight.\n",
            "\n",
            "\n"
          ]
        }
      ],
      "source": [
        "final_state = graph.get_state(config=config)\n",
        "analysts = final_state.values.get('analysts', [])\n",
        "for a in analysts:\n",
        "    print(a.persona)\n",
        "    print(\"\\n\")"
      ]
    },
    {
      "cell_type": "markdown",
      "metadata": {
        "id": "JVYTMnSUJ1FT"
      },
      "source": [
        "## Interview\n",
        "\n",
        "Now it is time to create the graph in charge of the interview process. Every agent will perform an interview with a \"Specialist\" in the topic of research. The agents will ask questions related to their field of expertise and the Specialist will answer them. The Specialist will have access to the internet and will be able to look up information if needed."
      ]
    },
    {
      "cell_type": "markdown",
      "metadata": {
        "id": "4rdwOMdLJ1FT"
      },
      "source": [
        "### Models and state"
      ]
    },
    {
      "cell_type": "code",
      "execution_count": null,
      "metadata": {
        "id": "yenjxn87J1FT"
      },
      "outputs": [],
      "source": [
        "# conduct interview\n",
        "\n",
        "import operator\n",
        "from typing import Annotated # to add the reducer\n",
        "from langgraph.graph import MessagesState\n",
        "\n",
        "class InterviewState(MessagesState):\n",
        "    max_turns: int\n",
        "    source_docs: Annotated[list, operator.add]\n",
        "    analyst: Analyst\n",
        "    interview_transcript: str\n",
        "    sections: list # Final key we duplicate in outer state for Send() API\n",
        "\n",
        "class SearchQuery(BaseModel):\n",
        "    query: str = Field(None, description=\"Search query for retrieval\")\n"
      ]
    },
    {
      "cell_type": "markdown",
      "metadata": {
        "id": "hGYJuA8JJ1FT"
      },
      "source": [
        "### generate questions"
      ]
    },
    {
      "cell_type": "code",
      "execution_count": null,
      "metadata": {
        "id": "KdMursUGJ1FT"
      },
      "outputs": [],
      "source": [
        "\n",
        "from textwrap import dedent\n",
        "from langchain_core.prompts import MessagesPlaceholder\n",
        "from langchain_openai import ChatOpenAI\n",
        "\n",
        "question_prompt = dedent(\"\"\"\n",
        "You are an analyst tasked with interviewing an expert to learn about a specific topic.\n",
        "Your goal is boil down to interesting and specific insights related to your topic.\n",
        "1. Interesting: Insights that people will find surprising or non-obvious.\n",
        "2. Specific: Insights that avoid generalities and include specific examples from the expert.\n",
        "\n",
        "Here is your topic of focus and professional description: {analyst_persona}\n",
        "\n",
        "Begin by introducing yourself using a name that fits your persona, and then ask your question.\n",
        "Continue to ask questions to drill down and refine your understanding of the topic.\n",
        "When you are satisfied with your understanding, complete the interview with: \"INTERVIEW FINISHED\"\n",
        "Remember to stay in character throughout your response, reflecting the persona and goals provided to you.\n",
        "\"\"\")\n",
        "\n",
        "def generate_question(state: InterviewState) -> InterviewState:\n",
        "    analyst = state.get('analyst')\n",
        "    messages = state.get('messages', [])\n",
        "\n",
        "    prompt = ChatPromptTemplate.from_messages([\n",
        "      ('system', question_prompt),\n",
        "      MessagesPlaceholder(variable_name=\"conversation_history\")\n",
        "    ])\n",
        "\n",
        "    #llm = ChatGroq(model=\"llama3-groq-70b-8192-tool-use-preview\", temperature=0.2)\n",
        "    llm = ChatOpenAI(model=\"gpt-4o-mini\", temperature=0.2)\n",
        "\n",
        "    question = (prompt | llm).invoke({\n",
        "      'conversation_history': messages,\n",
        "      'analyst_persona': analyst.persona\n",
        "    })\n",
        "\n",
        "    question.name = \"analyst\"\n",
        "\n",
        "    return {\"messages\": [question]}"
      ]
    },
    {
      "cell_type": "markdown",
      "metadata": {
        "id": "yT6jh-5lJ1FT"
      },
      "source": [
        "### generate answers"
      ]
    },
    {
      "cell_type": "code",
      "execution_count": null,
      "metadata": {
        "id": "5UrvMWOMJ1FT",
        "outputId": "0305d12c-9819-4b55-ae3b-2b246e4f9853"
      },
      "outputs": [
        {
          "name": "stdout",
          "output_type": "stream",
          "text": [
            "Note: you may need to restart the kernel to use updated packages.\n"
          ]
        }
      ],
      "source": [
        "%pip install -Uq langchain-community wikipedia"
      ]
    },
    {
      "cell_type": "code",
      "execution_count": null,
      "metadata": {
        "id": "Ol6wF2VKJ1FT"
      },
      "outputs": [],
      "source": [
        "from langchain_community.tools import TavilySearchResults\n",
        "from langchain_community.document_loaders import WikipediaLoader\n",
        "import os\n",
        "import getpass\n",
        "\n",
        "if \"TAVILY_API_KEY\" not in os.environ:\n",
        "    os.environ[\"TAVILY_API_KEY\"] = getpass.getpass(\"Enter your Tavily API key: \")\n",
        "\n",
        "tavily_search = TavilySearchResults(max_results=3)"
      ]
    },
    {
      "cell_type": "markdown",
      "metadata": {
        "id": "zEiuzvcIJ1FT"
      },
      "source": [
        "#### nodes for web search and wikipedia search"
      ]
    },
    {
      "cell_type": "code",
      "execution_count": null,
      "metadata": {
        "id": "GCBmYLZ5J1FT"
      },
      "outputs": [],
      "source": [
        "from langchain_core.messages import SystemMessage\n",
        "\n",
        "search_query_prompt = dedent(\n",
        "    \"\"\"\n",
        "You will be given a conversation between an analyst and an expert.\n",
        "Your goal is to generate a well-structured query for use in retrieval and / or web-search related to the conversation.\n",
        "First, analyze the full conversation.\n",
        "Pay particular attention to the final question posed by the analyst.\n",
        "Convert this final question into a well-structured web search query\n",
        "\"\"\"\n",
        ")\n",
        "\n",
        "\n",
        "def search_web(state: InterviewState):\n",
        "    messages = state.get('messages', [])\n",
        "\n",
        "    # search query\n",
        "    #llm = ChatGroq(model=\"llama3-groq-70b-8192-tool-use-preview\", temperature=0.2)\n",
        "    llm = ChatOpenAI(model=\"gpt-4o-mini\", temperature=0.2)\n",
        "    structured_llm = llm.with_structured_output(SearchQuery)\n",
        "    search_query = structured_llm.invoke(\n",
        "        [SystemMessage(content=search_query_prompt)] + messages\n",
        "    )\n",
        "\n",
        "    # search\n",
        "    web_search_results = tavily_search.invoke(search_query.query)\n",
        "\n",
        "    if not isinstance(web_search_results, list):\n",
        "        return {\"source_docs\": []}\n",
        "\n",
        "    for i, result in enumerate(web_search_results):\n",
        "        summarized = llm.invoke(\n",
        "            f\"\"\"Summarize the following content into two detailed paragraphs. Be sure to include the main points and key details.\n",
        "                This summary will be used to generate a structured query for further research:\n",
        "                {result['content']}\n",
        "                \"\"\"\n",
        "        )\n",
        "        web_search_results[i][\"content\"] = summarized\n",
        "\n",
        "    formatted_results = \"\\n\\n---\\n\\n\".join(\n",
        "        [\n",
        "            f'<Document href=\"{result['url']}\">\\n{result[\"content\"]}\\n</Document>'\n",
        "            for result in web_search_results\n",
        "        ]\n",
        "    )\n",
        "\n",
        "    return {\"source_docs\": [formatted_results]}\n",
        "\n",
        "\n",
        "def search_wikipedia(state: InterviewState):\n",
        "    # search query\n",
        "    #llm = ChatGroq(model=\"llama3-groq-70b-8192-tool-use-preview\", temperature=0.2)\n",
        "    llm = ChatOpenAI(model=\"gpt-4o-mini\", temperature=0.2)\n",
        "    structured_llm = llm.with_structured_output(SearchQuery)\n",
        "    search_query = structured_llm.invoke(\n",
        "        [SystemMessage(content=search_query_prompt)] + state[\"messages\"]\n",
        "    )\n",
        "\n",
        "    # search\n",
        "    wikipedia_results = WikipediaLoader(\n",
        "        query=search_query.query, load_max_docs=2\n",
        "    ).load()\n",
        "\n",
        "    # we use the summary to reduce token usage, but you can use the full content in result.page_content\n",
        "    formatted_results = \"\\n\\n---\\n\\n\".join(\n",
        "        [\n",
        "            f'<Document href=\"{result.metadata['source']}\">\\nTitle: {result.metadata['title']}\\n\\n{result.metadata['summary']}\\n</Document>'\n",
        "            for result in wikipedia_results\n",
        "        ]\n",
        "    )\n",
        "\n",
        "    return {\"source_docs\": [formatted_results]}"
      ]
    },
    {
      "cell_type": "code",
      "execution_count": null,
      "metadata": {
        "id": "FVlDVTqxJ1FU"
      },
      "outputs": [],
      "source": [
        "# test nodes\n",
        "\n",
        "from langchain_core.messages import AIMessage\n",
        "\n",
        "test_state = InterviewState(\n",
        "  max_num_turns=2,\n",
        "  source_docs=[],\n",
        "  analyst=analysts[0],\n",
        "  interview_transcript=\"\",\n",
        "  sections=[],\n",
        "  messages=[\n",
        "    SystemMessage(content=\"What is the impact of social media on mental health?\"),\n",
        "    AIMessage(content=\"I am an analyst from the University of California, Berkeley. I am interested in the impact of social media on mental health.\", name=\"analyst\"),\n",
        "    AIMessage(content=\"What is the impact of social media on mental health?\", name=\"analyst\")\n",
        "  ]\n",
        ")"
      ]
    },
    {
      "cell_type": "code",
      "execution_count": null,
      "metadata": {
        "id": "KaxKfBpOJ1FU",
        "outputId": "f4c370ea-f8d6-4f34-a76e-8bb80454eb93"
      },
      "outputs": [
        {
          "name": "stdout",
          "output_type": "stream",
          "text": [
            "<Document href=\"https://en.wikipedia.org/wiki/Social_media\">\n",
            "Title: Social media\n",
            "\n",
            "Social media are interactive technologies that facilitate the creation, sharing and aggregation of content (such as ideas, interests, and other forms of expression) amongst virtual communities and networks. Common features include:\n",
            "\n",
            "Online platforms that enable users to create and share content and participate in social networking.\n",
            "User-generated content—such as text posts or comments, digital photos or videos, and data generated through online interactions.\n",
            "Service-specific profiles that are designed and maintained by the social media organization.\n",
            "Social media helps the development of online social networks by connecting a user's profile with those of other individuals or groups.\n",
            "The term social in regard to media suggests platforms enable communal activity. Social media can enhance and extend human networks. Users access social media through web-based apps or custom apps on mobile devices. These interactive platforms allow individuals, communities, and organizations to share, co-create, discuss, participate in, and modify user-generated or self-curated content. Social media is used to document memories, learn, and form friendships. They may be used to promote people, companies, products, and ideas. Social media can be used to consume, publish, or share news.\n",
            "Popular social media platforms with over 100 million registered users include Twitter, Facebook, WeChat, ShareChat, Instagram, Pinterest, QZone, Weibo, VK, Tumblr, Baidu Tieba, Threads and LinkedIn. Depending on interpretation, other popular platforms that are sometimes referred to as social media services include YouTube, Letterboxd, QQ, Quora, Telegram, WhatsApp, Signal, LINE, Snapchat, Viber, Reddit, Discord, and TikTok. Wikis are examples of collaborative content creation.\n",
            "Social media outlets differ from old media (e.g. newspapers, TV, and radio broadcasting) in many ways, including quality, reach, frequency, usability, relevancy, and permanence. Social media outlets operate in a dialogic transmission system (many sources to many receivers) while traditional media operate under a monologic transmission model (one source to many receivers). For instance, a newspaper is delivered to many subscribers, and a radio station broadcasts the same programs to a city.\n",
            "Social media has been criticized for a range of negative impacts on children and teenagers, including exposure to inappropriate content, exploitation by adults, sleep problems, attention problems, feelings of exclusion, and various mental health maladies. Social media has also received criticism as worsening political polarization and undermining democracy. Major news outlets often have strong controls in place to avoid and fix false claims, but social media's unique qualities bring viral content with little to no oversight. \"Algorithms that track user engagement to prioritize what is shown tend to favor content that spurs negative emotions like anger and outrage. Overall, most online misinformation originates from a small minority of “superspreaders,” but social media amplifies their reach and influence.\"\n",
            "</Document>\n",
            "\n",
            "---\n",
            "\n",
            "<Document href=\"https://en.wikipedia.org/wiki/Impact_of_prostitution_on_mental_health\">\n",
            "Title: Impact of prostitution on mental health\n",
            "\n",
            "The Impact of prostitution on mental health refers to the psychological, cognitive, and emotional consequences experienced by individuals involved in prostitution. These consequences include a wide range of mental health issues and difficulties in emotional management and interpersonal relationships. Prostitution is closely linked to various psychological pathologies and affects not only those directly involved but also society at large. Studies have shown that both street and indoor sex workers have experienced high levels of abuse in childhood and adulthood, with differences in trauma rates between the two groups.\n",
            "Women in prostitution experience a profound impact on their identity, encompassing cognitive, physical, and emotional dimensions, manifesting in health problems and difficulties in emotional management and interpersonal relationships. Prostitution, being strongly linked to psychopathology and social health, should be addressed as a medical situation that affects not only the individuals involved but also society at large, with psychological aspects.\n",
            "Sex work involves the provision of one or more sexual services in exchange for money or goods. However, sex workers are not a homogeneous group. Street sex workers are often illegal, finding clients on the street and providing services in alleys or clients' cars. On the other hand, indoor sex workers operate in brothels, massage parlors, or as private escorts. Previous research has shown that both street and indoor sex workers have experienced high levels of abuse in childhood and adulthood, though indoor sex workers report lower rates of abuse and trauma compared to street workers.\n",
            "There is a high prevalence of victimization in childhood and adulthood among sex workers, with secondary trauma disorders. Recurrent victimization, known as \"Type II trauma,\" can cause pathological psychological changes that are difficult to classify. Proposed diagnoses include developmental trauma disorder for childhood and complex post-traumatic stress disorder (cPTSD) for adulthood, though these are not included in official diagnostic manuals.\n",
            "There is a connection between prostitution and trafficking, organized crimes that reflect sexism, patriarchy, capitalism, and economic inequality. The physical consequences of sexual exploitation include sexually transmitted diseases, cervical cancer, chronic pain, liver problems, unintended pregnancies, eating disorders, concentration and memory difficulties, visual and hearing problems, fractures, and, in extreme cases, death. Psychologically, women suffer from low self-esteem, stress, pathological ties with control networks, social isolation, loneliness, extreme fear, hopelessness, and a lack of assertiveness in seeking support, resulting in trauma that alters their beliefs and perceptions, causing irreparable damage to their personal identity. These conditions are exacerbated by language barriers and other vulnerability factors, such as having suffered sexual abuse in childhood or being the main economic support for their family, which is exploited by pimps.\n",
            "The effects on mental health are severe, with high rates of depression, anxiety, and post-traumatic stress disorder (PTSD) among those who sell sex, exacerbated by social stigma, discrimination, physical violence, and mistreatment by authorities. Studies in the United States and Canada reveal depression symptoms in 68% of these individuals and PTSD symptoms in nearly a third, showing higher rates than in combat veterans. Substance abuse is common, generally as a response to sex work rather than a cause, with most increasing drug use to cope with their reality.\n",
            "The sex industry is a global business worth $57 billion annually, with the United States hosting the largest number of adult clubs in the world, employing over 500,000 people. Between 66% and 90% of women in this industry were sexually abused during their childhood. These women have higher rates of substance abuse, sexually transmitted infections, domestic violence, depression, violent aggression, rape, and PTSD compared to the general population.\n",
            "The emotional effects of prostitution are devastating. Dissociation, a response to uncontrollable traumatic events, is common among prostituted individuals, similar to the response of prisoners of war. Research has shown that both indoor and outdoor sex work increase the risk of being assaulted. In outdoor sex work 82% of women reported being physically assaulted, and 68% reported being raped. In indoor settings, more sexual violence and threats with weapons were reported. Women in the sex industry frequently face multiple psychosocial stressors, limited resources, and a high rate of untreated health and legal problems.\n",
            "Other studies that assessed the presence of psychological alterations in prostitutes, compared to non-prostitutes, also documented concentration and memory difficulties, as well as sleep problems (with an incidence of 79%), irritability (64%), anxiety (60%), phobias (26%), panic attacks (24%), compulsions (37%), obsessions (53%), fatigue (82%), and concerns about physical health (35%), and 30% of the sample reported a suicide attempt.\n",
            "</Document>\n"
          ]
        }
      ],
      "source": [
        "wiki_results = search_wikipedia(test_state)\n",
        "\n",
        "print(wiki_results['source_docs'][0])"
      ]
    },
    {
      "cell_type": "code",
      "execution_count": null,
      "metadata": {
        "id": "lTa9UHJGJ1FU",
        "outputId": "fd7d7c31-877e-4560-9cf1-7b44e261e067"
      },
      "outputs": [
        {
          "name": "stdout",
          "output_type": "stream",
          "text": [
            "<Document href=\"https://www.forbes.com/health/mind/social-media-and-mental-health/\">\n",
            "content=\"Sarah Hays Coomer, a National Board Certified Health and Wellness Coach, discusses the multifaceted effects of social media on mental health, highlighting both positive and negative aspects. On one hand, social media can foster connections and provide support networks, which can be beneficial for individuals seeking community and belonging. However, Coomer emphasizes the detrimental effects, such as increased feelings of anxiety, depression, and loneliness, often stemming from social comparison, cyberbullying, and the pressure to maintain a curated online persona. The constant exposure to idealized representations of others' lives can lead to unrealistic expectations and a diminished sense of self-worth, particularly among younger users who are more susceptible to these influences.\\n\\nTo mitigate the adverse effects of social media, Coomer offers practical advice for individuals looking to reduce their online presence. She suggests setting specific time limits for social media use, curating feeds to include only positive and uplifting content, and engaging in offline activities that promote mental well-being, such as exercise, hobbies, and face-to-face interactions. Additionally, Coomer encourages individuals to reflect on their feelings before and after using social media, helping them identify triggers and patterns that may contribute to negative mental health outcomes. By implementing these strategies, users can create a healthier relationship with social media, ultimately enhancing their overall mental health and well-being.\" additional_kwargs={'refusal': None} response_metadata={'token_usage': {'completion_tokens': 262, 'prompt_tokens': 89, 'total_tokens': 351, 'completion_tokens_details': {'accepted_prediction_tokens': 0, 'audio_tokens': 0, 'reasoning_tokens': 0, 'rejected_prediction_tokens': 0}, 'prompt_tokens_details': {'audio_tokens': 0, 'cached_tokens': 0}}, 'model_name': 'gpt-4o-mini-2024-07-18', 'system_fingerprint': 'fp_bba3c8e70b', 'finish_reason': 'stop', 'logprobs': None} id='run-3b1c65e3-4fe2-4bfa-b2a3-bce66cdab5f8-0' usage_metadata={'input_tokens': 89, 'output_tokens': 262, 'total_tokens': 351, 'input_token_details': {'audio': 0, 'cache_read': 0}, 'output_token_details': {'audio': 0, 'reasoning': 0}}\n",
            "</Document>\n",
            "\n",
            "---\n",
            "\n",
            "<Document href=\"https://www.nami.org/advocacy/policy-priorities/stopping-harmful-practices/social-media-use-and-impact-on-mental-health/\">\n",
            "content=\"The National Alliance on Mental Illness (NAMI) emphasizes the importance of understanding the complex relationship between social media use and mental health, particularly among youth and young adults. They advocate for public policies that promote research into both the positive and negative impacts of social media, recognizing that while these platforms can offer benefits, they also pose significant risks to mental well-being. NAMI's stance highlights the urgency of addressing these risks, as they believe that immediate action is necessary to protect vulnerable populations from the adverse effects associated with social media engagement.\\n\\nIn addition to advocating for research, NAMI supports the implementation of policies aimed at mitigating the negative impacts of social media on mental health. This proactive approach is rooted in the recognition that the mental health landscape is continually evolving with the rise of digital communication. By prioritizing the development of strategies that can help reduce the documented risks, NAMI seeks to foster a safer online environment for young individuals, ensuring that the potential benefits of social media do not come at the expense of their mental health.\" additional_kwargs={'refusal': None} response_metadata={'token_usage': {'completion_tokens': 203, 'prompt_tokens': 184, 'total_tokens': 387, 'completion_tokens_details': {'accepted_prediction_tokens': 0, 'audio_tokens': 0, 'reasoning_tokens': 0, 'rejected_prediction_tokens': 0}, 'prompt_tokens_details': {'audio_tokens': 0, 'cached_tokens': 0}}, 'model_name': 'gpt-4o-mini-2024-07-18', 'system_fingerprint': 'fp_bba3c8e70b', 'finish_reason': 'stop', 'logprobs': None} id='run-2561f361-a39f-4171-8320-a8ce686f88b7-0' usage_metadata={'input_tokens': 184, 'output_tokens': 203, 'total_tokens': 387, 'input_token_details': {'audio': 0, 'cache_read': 0}, 'output_token_details': {'audio': 0, 'reasoning': 0}}\n",
            "</Document>\n",
            "\n",
            "---\n",
            "\n",
            "<Document href=\"https://bmcpsychology.biomedcentral.com/articles/10.1186/s40359-023-01243-x\">\n",
            "content='The article \"Impacts of Social Media on Mental Health,\" published in BMC Psychology, explores the significant effects that social media usage has on individuals\\' mental well-being. It highlights both the positive and negative aspects of social media engagement, emphasizing how it can serve as a platform for social connection and support, but also lead to issues such as anxiety, depression, and feelings of inadequacy. The research indicates that while social media can foster community and provide access to mental health resources, it can also contribute to negative self-perception and cyberbullying, which can exacerbate mental health problems. The authors, Ágnes Zsila and Marc Eric S. Reyes, from various academic institutions, underscore the complexity of these impacts and the need for further investigation into how social media can be used beneficially while mitigating its adverse effects.\\n\\nThe article is part of a broader collection on the impacts of social media on mental health and is accessible under a Creative Commons Attribution 4.0 International License, allowing for wide dissemination and adaptation of the content. With over 156,000 accesses and multiple citations, it reflects a growing interest in understanding the relationship between social media and mental health. The authors advocate for a balanced approach to social media use, encouraging individuals to be mindful of their online interactions and the potential psychological implications. This research serves as a foundation for further studies aimed at developing strategies to enhance the positive aspects of social media while addressing its detrimental effects on mental health.' additional_kwargs={'refusal': None} response_metadata={'token_usage': {'completion_tokens': 292, 'prompt_tokens': 391, 'total_tokens': 683, 'completion_tokens_details': {'accepted_prediction_tokens': 0, 'audio_tokens': 0, 'reasoning_tokens': 0, 'rejected_prediction_tokens': 0}, 'prompt_tokens_details': {'audio_tokens': 0, 'cached_tokens': 0}}, 'model_name': 'gpt-4o-mini-2024-07-18', 'system_fingerprint': 'fp_bba3c8e70b', 'finish_reason': 'stop', 'logprobs': None} id='run-d0faaa93-1842-45e5-977b-1a3c36941c84-0' usage_metadata={'input_tokens': 391, 'output_tokens': 292, 'total_tokens': 683, 'input_token_details': {'audio': 0, 'cache_read': 0}, 'output_token_details': {'audio': 0, 'reasoning': 0}}\n",
            "</Document>\n"
          ]
        }
      ],
      "source": [
        "web_results = search_web(test_state)\n",
        "\n",
        "print (web_results['source_docs'][0])"
      ]
    },
    {
      "cell_type": "markdown",
      "metadata": {
        "id": "3Vo1raGUJ1FU"
      },
      "source": [
        "### Node for answering questions with sources"
      ]
    },
    {
      "cell_type": "code",
      "execution_count": null,
      "metadata": {
        "id": "WL21AJNcJ1FU"
      },
      "outputs": [],
      "source": [
        "from langchain_core.messages import get_buffer_string\n",
        "from langchain_core.output_parsers import StrOutputParser\n",
        "\n",
        "DEFAULT_MAX_TURNS = 2\n",
        "\n",
        "answer_prompt = dedent(\n",
        "    \"\"\"\n",
        "You are an expert being interviewed by an analyst.\n",
        "\n",
        "Here is the analyst's area of focus: {analyst_persona}.\n",
        "\n",
        "You goal is to answer a question posed by the interviewer.\n",
        "\n",
        "To answer the question, you may use this context if relevant:\n",
        "\n",
        "{source_docs}\n",
        "\n",
        "When answering questions, follow these guidelines:\n",
        "\n",
        "1. Use only the information provided in the context.\n",
        "\n",
        "2. Do not introduce external information or make assumptions beyond what is explicitly stated in the context.\n",
        "\n",
        "3. The context contain sources at the topic of each individual document.\n",
        "\n",
        "4. Include these sources in your answer next to any relevant statements. For example, for source # 1 use [1].\n",
        "\n",
        "5. List your sources in order at the bottom of your answer. [1] Source 1, [2] Source 2, etc\n",
        "\n",
        "6. If the source is: <Document source=\"https://wikipedia.org/wiki/example\"/>' then just list:\n",
        "\n",
        "[1] https://wikipedia.org/wiki/example\n",
        "\n",
        "And skip the addition of the brackets as well as the Document source preamble in your citation.\"\"\"\n",
        ")\n",
        "\n",
        "\n",
        "def generate_answer(state: InterviewState):\n",
        "    analyst = state.get(\"analyst\")\n",
        "    messages = state.get(\"messages\", [])\n",
        "    source_docs = state.get(\"source_docs\", [])\n",
        "\n",
        "    prompt = ChatPromptTemplate.from_messages(\n",
        "        [\n",
        "            (\"system\", answer_prompt),\n",
        "            MessagesPlaceholder(variable_name=\"conversation_history\"),\n",
        "        ]\n",
        "    )\n",
        "\n",
        "    #llm = ChatGroq(model=\"llama3-groq-70b-8192-tool-use-preview\", temperature=0.2)\n",
        "    llm = ChatOpenAI(model=\"gpt-4o-mini\", temperature=0.2)\n",
        "\n",
        "    answer = (prompt | llm).invoke(\n",
        "        {\n",
        "            \"conversation_history\": messages,\n",
        "            \"analyst_persona\": analyst.persona,\n",
        "            \"source_docs\": source_docs,\n",
        "        }\n",
        "    )\n",
        "\n",
        "    answer.name = \"expert\"\n",
        "\n",
        "    return {\"messages\": [answer]}\n",
        "\n",
        "\n",
        "# conditional edge\n",
        "def route_messages(state: InterviewState, name: str = \"expert\"):\n",
        "    messages = state.get(\"messages\", [])\n",
        "    max_num_turns = state.get(\"max_num_turns\", DEFAULT_MAX_TURNS)\n",
        "\n",
        "    num_responses = len([m for m in messages if m.name == name])\n",
        "\n",
        "    if num_responses >= max_num_turns:\n",
        "        return \"save_interview\"\n",
        "\n",
        "    last_question = messages[-2]\n",
        "\n",
        "    if \"INTERVIEW FINISHED\" in last_question.content:\n",
        "        return \"save_interview\"\n",
        "\n",
        "    return \"generate_question\"\n",
        "\n",
        "\n",
        "# node to save the interview\n",
        "def save_interview(state: InterviewState):\n",
        "    messages = state.get(\"messages\", [])\n",
        "\n",
        "    interview = get_buffer_string(messages)\n",
        "\n",
        "    return {\"interview_transcript\": interview}\n",
        "\n",
        "\n",
        "section_writer_instructions = \"\"\"You are an expert technical writer.\n",
        "\n",
        "Your task is to create a short, easily digestible section of a report based\n",
        "on a set of source documents.\n",
        "\n",
        "1. Analyze the content of the source documents:\n",
        "- The name of each source document is at the start of the document, within the\n",
        "<Document tag.\n",
        "\n",
        "2. Create a report structure using markdown formatting:\n",
        "- Use ## for the section title\n",
        "- Use ### for sub-section headers\n",
        "\n",
        "3. Write the report following this structure:\n",
        "a. Title (## header)\n",
        "b. Summary (### header)\n",
        "c. Sources (### header)\n",
        "\n",
        "4. Make your title engaging based upon the focus area of the analyst:\n",
        "{analyst_description}\n",
        "\n",
        "5. For the summary section:\n",
        "- Set up summary with general background / context related to the focus area of the analyst\n",
        "- Emphasize what is novel, interesting, or surprising about insights gathered from the interview\n",
        "- Create a numbered list of source documents, as you use them\n",
        "- Do not mention the names of interviewers or experts\n",
        "- Aim for approximately 400 words maximum\n",
        "- Use numbered sources in your report (e.g., [1], [2]) based on information from source documents\n",
        "\n",
        "6. In the Sources section:\n",
        "- Include all sources used in your report\n",
        "- Provide full links to relevant websites or specific document paths\n",
        "- Separate each source by a newline. Use two spaces at the end of each line to create a newline in Markdown.\n",
        "- It will look like:\n",
        "\n",
        "### Sources\n",
        "[1] Link or Document name\n",
        "[2] Link or Document name\n",
        "\n",
        "7. Be sure to combine sources. For example this is not correct:\n",
        "\n",
        "[3] https://ai.meta.com/blog/meta-llama-3-1/\n",
        "[4] https://ai.meta.com/blog/meta-llama-3-1/\n",
        "\n",
        "There should be no redundant sources. It should simply be:\n",
        "\n",
        "[3] https://ai.meta.com/blog/meta-llama-3-1/\n",
        "\n",
        "8. Final review:\n",
        "- Ensure the report follows the required structure\n",
        "- Include no preamble before the title of the report\n",
        "- Check that all guidelines have been followed\"\"\"\n",
        "\n",
        "\n",
        "# node to write section\n",
        "def write_section(state: InterviewState):\n",
        "    interview = state.get(\"interview_transcript\", \"\")\n",
        "    source_docs = state.get(\"source_docs\", [])\n",
        "    analyst = state.get(\"analyst\")\n",
        "\n",
        "    prompt = ChatPromptTemplate.from_messages(\n",
        "        [\n",
        "            (\"system\", section_writer_instructions),\n",
        "            (\"human\", \"Use this information to write your section: {source_docs}\"),\n",
        "        ]\n",
        "    )\n",
        "\n",
        "    #llm = ChatGroq(model=\"llama3-groq-70b-8192-tool-use-preview\", temperature=0.2)\n",
        "    llm = ChatOpenAI(model=\"gpt-4o-mini\", temperature=0.2)\n",
        "\n",
        "    chain = prompt | llm | StrOutputParser()\n",
        "\n",
        "    section = chain.invoke(\n",
        "        {\"source_docs\": source_docs, \"analyst_description\": analyst.description}\n",
        "    )\n",
        "\n",
        "    return {\"sections\": [section]}"
      ]
    },
    {
      "cell_type": "code",
      "execution_count": null,
      "metadata": {
        "id": "6YnyynOTJ1FU",
        "outputId": "65fbfb00-b6c0-443c-f11e-993af43745f6"
      },
      "outputs": [
        {
          "data": {
            "image/png": "[encoded data removed]",
            "text/plain": [
              "<IPython.core.display.Image object>"
            ]
          },
          "metadata": {},
          "output_type": "display_data"
        }
      ],
      "source": [
        "# create graph\n",
        "from IPython.display import Image, display\n",
        "from langgraph.graph import END, START, StateGraph\n",
        "from langgraph.checkpoint.memory import MemorySaver\n",
        "\n",
        "# nodes\n",
        "interview_graph_builder = StateGraph(InterviewState)\n",
        "interview_graph_builder.add_node(\"generate_question\", generate_question)\n",
        "interview_graph_builder.add_node(\"search_web\", search_web)\n",
        "interview_graph_builder.add_node(\"search_wikipedia\", search_wikipedia)\n",
        "interview_graph_builder.add_node(\"generate_answer\", generate_answer)\n",
        "interview_graph_builder.add_node(\"save_interview\", save_interview)\n",
        "interview_graph_builder.add_node(\"write_section\", write_section)\n",
        "\n",
        "# edges\n",
        "interview_graph_builder.add_edge(START, \"generate_question\")\n",
        "interview_graph_builder.add_edge(\"generate_question\", \"search_web\")\n",
        "interview_graph_builder.add_edge(\"generate_question\", \"search_wikipedia\")\n",
        "interview_graph_builder.add_edge(\"search_web\", \"generate_answer\")\n",
        "interview_graph_builder.add_edge(\"search_wikipedia\", \"generate_answer\")\n",
        "interview_graph_builder.add_conditional_edges(\"generate_answer\", route_messages, [\"generate_question\", \"save_interview\"])\n",
        "interview_graph_builder.add_edge(\"save_interview\", \"write_section\")\n",
        "interview_graph_builder.add_edge(\"write_section\", END)\n",
        "\n",
        "# compile\n",
        "memory = MemorySaver()\n",
        "interview_graph = interview_graph_builder.compile(checkpointer=memory).with_config(run_name=\"Conduct Interview\")\n",
        "\n",
        "# view\n",
        "display(Image(interview_graph.get_graph(xray=1).draw_mermaid_png()))"
      ]
    },
    {
      "cell_type": "markdown",
      "metadata": {
        "id": "fueHXIpgJ1FY"
      },
      "source": [
        "## Test it with one analyst"
      ]
    },
    {
      "cell_type": "code",
      "execution_count": null,
      "metadata": {
        "id": "Tc71OOFgJ1FY",
        "outputId": "fb9fdac0-fac4-4784-b15f-834b4c1eb5fe"
      },
      "outputs": [
        {
          "name": "stdout",
          "output_type": "stream",
          "text": [
            "Name: Dr. Emily Carter\n",
            "Role: Space Policy Analyst\n",
            "Affiliation: NASA\n",
            "Description: Dr. Carter focuses on the policy implications of the Apollo Missions and their influence on current space exploration strategies. She is particularly interested in how historical missions shape international collaboration in space.\n"
          ]
        }
      ],
      "source": [
        "print(analysts[0].persona)"
      ]
    },
    {
      "cell_type": "code",
      "execution_count": null,
      "metadata": {
        "id": "aqKR5bY9J1FY",
        "outputId": "b7d2b457-59d9-4af6-c022-0506f8224399"
      },
      "outputs": [
        {
          "data": {
            "text/markdown": [
              "## The Enduring Legacy of the Apollo Missions: Shaping Future Space Exploration\n",
              "\n",
              "### Summary\n",
              "The Apollo missions, which successfully landed humans on the Moon, have left an indelible mark on contemporary space exploration strategies, particularly influencing NASA's Artemis program aimed at returning humans to the lunar surface. The technological advancements achieved during the Apollo era, including innovations in spacecraft design and navigation systems, have laid the groundwork for modern missions, ensuring safety and success in current endeavors. Notably, the Apollo program has transcended mere technological achievements; it has inspired a cultural shift towards science, technology, engineering, and mathematics (STEM) education, fostering a skilled workforce essential for tackling contemporary challenges in space exploration [1].\n",
              "\n",
              "Moreover, the Apollo missions catalyzed a wave of entrepreneurial ventures in the space industry, exemplified by initiatives like Virgin Galactic, which aims to make space tourism accessible to private individuals. This shift towards commercial spaceflight underscores the Apollo program's role as a foundational platform for future innovations and projects, paving the way for a new era of exploration and development [2]. \n",
              "\n",
              "The Apollo missions also established a framework for international collaboration in space exploration. The partnerships formed during this period not only facilitated technological advancements but also fostered a spirit of unity among nations, setting a precedent for future collaborative efforts. The legacy of the Apollo missions continues to inspire global cooperation, as seen in projects like the International Space Station (ISS), which involves multiple countries working together for scientific research and technology development [3][4]. \n",
              "\n",
              "Interestingly, the Apollo-Soyuz mission in 1975 marked the first international space collaboration, demonstrating the feasibility and benefits of joint efforts in space exploration. This spirit of collaboration has become increasingly vital as nations navigate the complexities of modern space endeavors, emphasizing the importance of teamwork and shared goals [5]. \n",
              "\n",
              "In summary, the Apollo missions not only reshaped our understanding of the Moon and its relationship with Earth but also instilled an optimistic vision for the future of space exploration, where international cooperation remains a crucial element in humanity's quest to explore the cosmos [6].\n",
              "\n",
              "### Sources\n",
              "[1] https://apollo11space.com/the-essence-and-significance-of-the-apollo-program/  \n",
              "[2] https://apollo11space.com/apollos-impact-assessing-the-value-of-moon-missions/  \n",
              "[3] https://moon-mission.info/international-collaborations-in-apollo-missions-a-close-look/  \n",
              "[4] https://apollo11space.com/how-the-apollo-program-shaped-international-relations/  \n",
              "[5] https://newspaceeconomy.ca/2023/11/14/global-collaboration-in-space-benefits-and-challenges/  \n",
              "[6] https://en.wikipedia.org/wiki/Artemis_I  "
            ],
            "text/plain": [
              "<IPython.core.display.Markdown object>"
            ]
          },
          "execution_count": 32,
          "metadata": {},
          "output_type": "execute_result"
        }
      ],
      "source": [
        "from IPython.display import Markdown\n",
        "from langchain_core.messages import HumanMessage\n",
        "\n",
        "topic = \"The impact of the Apollo Missions on Space Exploration\"\n",
        "thread_id = \"1\"\n",
        "\n",
        "messages = [HumanMessage(f\"You are writing an article on {topic}. Right?\")]\n",
        "config = {\"configurable\": {\"thread_id\": thread_id}}\n",
        "interview = interview_graph.invoke({\n",
        "  \"analyst\": analysts[0],\n",
        "  \"messages\": messages,\n",
        "  \"max_num_turns\": DEFAULT_MAX_TURNS\n",
        "  }, config)\n",
        "Markdown(interview['sections'][0])"
      ]
    },
    {
      "cell_type": "markdown",
      "metadata": {
        "id": "t4V5S5wrJ1FY"
      },
      "source": [
        "## Paralelize Interviews with Map-Reduce"
      ]
    },
    {
      "cell_type": "code",
      "execution_count": null,
      "metadata": {
        "id": "_VfVlrnlJ1FY"
      },
      "outputs": [],
      "source": [
        "import operator\n",
        "from typing import List, Annotated\n",
        "from typing_extensions import TypedDict\n",
        "\n",
        "class ResearchGraphState(TypedDict):\n",
        "    topic: str # Research topic\n",
        "    max_analysts: int # Number of analysts\n",
        "    human_feedback: str # Human feedback\n",
        "    analysts: List[Analyst] # Analyst asking questions\n",
        "    sections: Annotated[list, operator.add] # Send() API key\n",
        "    report_intro: str # Introduction for the final report\n",
        "    report_content: str # Content for the final report\n",
        "    report_conclusion: str # Conclusion for the final report\n",
        "    report_final: str # Final report"
      ]
    },
    {
      "cell_type": "code",
      "execution_count": null,
      "metadata": {
        "id": "Hx7py0uJJ1FY",
        "outputId": "4d71dee2-4c02-45d3-d116-cf62d70a5912"
      },
      "outputs": [
        {
          "data": {
            "image/png": "[encoded data removed]",
            "text/plain": [
              "<IPython.core.display.Image object>"
            ]
          },
          "metadata": {},
          "output_type": "display_data"
        }
      ],
      "source": [
        "from langgraph.constants import Send\n",
        "\n",
        "def initiate_all_interviews(state: ResearchGraphState):\n",
        "    \"\"\" This is the \"map\" step where we run each interview sub-graph using Send API \"\"\"\n",
        "\n",
        "    # Check if human feedback\n",
        "    human_analyst_feedback=state.get('human_feedback')\n",
        "    if human_analyst_feedback:\n",
        "        # Return to create_analysts\n",
        "        return \"create_analysts\"\n",
        "\n",
        "    # Otherwise kick off interviews in parallel via Send() API\n",
        "    else:\n",
        "        topic = state[\"topic\"]\n",
        "        return [Send(\"conduct_interview\", {\"analyst\": analyst,\n",
        "                                           \"messages\": [HumanMessage(\n",
        "                                               content=f\"So you said you were writing an article on {topic}?\"\n",
        "                                           )\n",
        "                                                       ]}) for analyst in state[\"analysts\"]]\n",
        "\n",
        "report_writer_instructions = \"\"\"You are a technical writer creating a report on this overall topic:\n",
        "\n",
        "{topic}\n",
        "\n",
        "You have a team of analysts. Each analyst has done two things:\n",
        "\n",
        "1. They conducted an interview with an expert on a specific sub-topic.\n",
        "2. They write up their finding into a memo.\n",
        "\n",
        "Your task:\n",
        "\n",
        "1. You will be given a collection of memos from your analysts.\n",
        "2. Think carefully about the insights from each memo.\n",
        "3. Consolidate these into a crisp overall summary that ties together the central ideas from all of the memos.\n",
        "4. Summarize the central points in each memo into a cohesive single narrative.\n",
        "\n",
        "To format your report:\n",
        "\n",
        "1. Use markdown formatting.\n",
        "2. Include no pre-amble for the report.\n",
        "3. Use no sub-heading.\n",
        "4. Start your report with a single title header: ## Insights\n",
        "5. Do not mention any analyst names in your report.\n",
        "6. Preserve any citations in the memos, which will be annotated in brackets, for example [1] or [2].\n",
        "7. Create a final, consolidated list of sources and add to a Sources section with the `## Sources` header.\n",
        "8. List your sources in order and do not repeat.\n",
        "\n",
        "[1] Source 1\n",
        "[2] Source 2\n",
        "\n",
        "Here are the memos from your analysts to build your report from:\n",
        "\n",
        "{context}\"\"\"\n",
        "\n",
        "def write_report(state: ResearchGraphState):\n",
        "    # Full set of sections\n",
        "    sections = state[\"sections\"]\n",
        "    topic = state[\"topic\"]\n",
        "\n",
        "    # Concat all sections together\n",
        "    formatted_str_sections = \"\\n\\n\".join([f\"{section}\" for section in sections])\n",
        "\n",
        "    # Summarize the sections into a final report\n",
        "    system_message = report_writer_instructions.format(topic=topic, context=formatted_str_sections)\n",
        "    report = llm.invoke([SystemMessage(content=system_message)]+[HumanMessage(content=f\"Write a report based upon these memos.\")])\n",
        "    return {\"report_content\": report.content}\n",
        "\n",
        "intro_conclusion_instructions = \"\"\"You are a technical writer finishing a report on {topic}\n",
        "\n",
        "You will be given all of the sections of the report.\n",
        "\n",
        "You job is to write a crisp and compelling introduction or conclusion section.\n",
        "\n",
        "The user will instruct you whether to write the introduction or conclusion.\n",
        "\n",
        "Include no pre-amble for either section.\n",
        "\n",
        "Target around 100 words, crisply previewing (for introduction) or recapping (for conclusion) all of the sections of the report.\n",
        "\n",
        "Use markdown formatting.\n",
        "\n",
        "For your introduction, create a compelling title and use the # header for the title.\n",
        "\n",
        "For your introduction, use ## Introduction as the section header.\n",
        "\n",
        "For your conclusion, use ## Conclusion as the section header.\n",
        "\n",
        "Here are the sections to reflect on for writing: {formatted_str_sections}\"\"\"\n",
        "\n",
        "def write_introduction(state: ResearchGraphState):\n",
        "    # Full set of sections\n",
        "    sections = state[\"sections\"]\n",
        "    topic = state[\"topic\"]\n",
        "\n",
        "    # Concat all sections together\n",
        "    formatted_str_sections = \"\\n\\n\".join([f\"{section}\" for section in sections])\n",
        "\n",
        "    # Summarize the sections into a final report\n",
        "\n",
        "    instructions = intro_conclusion_instructions.format(topic=topic, formatted_str_sections=formatted_str_sections)\n",
        "    intro = llm.invoke([instructions]+[HumanMessage(content=f\"Write the report introduction\")])\n",
        "    return {\"report_intro\": intro.content}\n",
        "\n",
        "def write_conclusion(state: ResearchGraphState):\n",
        "    # Full set of sections\n",
        "    sections = state[\"sections\"]\n",
        "    topic = state[\"topic\"]\n",
        "\n",
        "    # Concat all sections together\n",
        "    formatted_str_sections = \"\\n\\n\".join([f\"{section}\" for section in sections])\n",
        "\n",
        "    # Summarize the sections into a final report\n",
        "\n",
        "    instructions = intro_conclusion_instructions.format(topic=topic, formatted_str_sections=formatted_str_sections)\n",
        "    conclusion = llm.invoke([instructions]+[HumanMessage(content=f\"Write the report conclusion\")])\n",
        "    return {\"report_conclusion\": conclusion.content}\n",
        "\n",
        "def finalize_report(state: ResearchGraphState):\n",
        "    \"\"\" The is the \"reduce\" step where we gather all the sections, combine them, and reflect on them to write the intro/conclusion \"\"\"\n",
        "    # Save full final report\n",
        "    content = state[\"report_content\"]\n",
        "    intro = state[\"report_intro\"]\n",
        "    conclusion = state[\"report_conclusion\"]\n",
        "    if content.startswith(\"## Insights\"):\n",
        "        content = content.strip(\"## Insights\")\n",
        "    if \"## Sources\" in content:\n",
        "        try:\n",
        "            content, sources = content.split(\"\\n## Sources\\n\")\n",
        "        except:\n",
        "            sources = None\n",
        "    else:\n",
        "        sources = None\n",
        "\n",
        "    final_report = intro + \"\\n\\n---\\n\\n\" + content + \"\\n\\n---\\n\\n\" + conclusion\n",
        "    if sources is not None:\n",
        "        final_report += \"\\n\\n## Sources\\n\" + sources\n",
        "    return {\"report_final\": final_report}\n",
        "\n",
        "# Add nodes and edges\n",
        "builder = StateGraph(ResearchGraphState)\n",
        "builder.add_node(\"create_analysts\", generate_analysts)\n",
        "builder.add_node(\"get_human_feedback\", get_human_feedback)\n",
        "builder.add_node(\"conduct_interview\", interview_graph_builder.compile())\n",
        "builder.add_node(\"write_report\",write_report)\n",
        "builder.add_node(\"write_introduction\",write_introduction)\n",
        "builder.add_node(\"write_conclusion\",write_conclusion)\n",
        "builder.add_node(\"finalize_report\",finalize_report)\n",
        "\n",
        "# Logic\n",
        "builder.add_edge(START, \"create_analysts\")\n",
        "builder.add_edge(\"create_analysts\", \"get_human_feedback\")\n",
        "builder.add_conditional_edges(\"get_human_feedback\", initiate_all_interviews, [\"create_analysts\", \"conduct_interview\"])\n",
        "builder.add_edge(\"conduct_interview\", \"write_report\")\n",
        "builder.add_edge(\"conduct_interview\", \"write_introduction\")\n",
        "builder.add_edge(\"conduct_interview\", \"write_conclusion\")\n",
        "builder.add_edge([\"write_conclusion\", \"write_report\", \"write_introduction\"], \"finalize_report\")\n",
        "builder.add_edge(\"finalize_report\", END)\n",
        "\n",
        "# Compile\n",
        "memory = MemorySaver()\n",
        "graph = builder.compile(checkpointer=memory, interrupt_before=[\"get_human_feedback\"])\n",
        "display(Image(graph.get_graph(xray=1).draw_mermaid_png()))"
      ]
    },
    {
      "cell_type": "code",
      "execution_count": null,
      "metadata": {
        "id": "K4DpYfgXJ1FY",
        "outputId": "15dd3415-ce1e-4868-b2d5-0259599ce5f8"
      },
      "outputs": [
        {
          "name": "stdout",
          "output_type": "stream",
          "text": [
            "{'topic': 'the effects of the apollo missions on space exploration', 'max_analysts': 3, 'sections': []}\n",
            "{'topic': 'the effects of the apollo missions on space exploration', 'max_analysts': 3, 'analysts': [Analyst(affiliation='NASA', name='Dr. Emily Carter', role='Space Exploration Historian', description='Dr. Carter specializes in the historical impact of space missions on technological advancements and international collaboration in space exploration. Her focus is on how the Apollo missions set the stage for future missions and influenced global space policies.'), Analyst(affiliation='MIT', name='Prof. James Liu', role='Astrophysicist', description='Prof. Liu examines the scientific breakthroughs resulting from the Apollo missions, particularly in astrophysics and planetary science. He is interested in how these missions expanded our understanding of the Moon and other celestial bodies, and their implications for future exploration.'), Analyst(affiliation='Space Policy Institute', name='Dr. Sarah Thompson', role='Space Policy Analyst', description='Dr. Thompson analyzes the political and economic effects of the Apollo missions on space policy and funding. She focuses on how the missions shaped public perception of space exploration and influenced government priorities in the decades that followed.')], 'sections': []}\n",
            "Name: Dr. Emily Carter\n",
            "Affiliation: NASA\n",
            "Role: Space Exploration Historian\n",
            "Description: Dr. Carter specializes in the historical impact of space missions on technological advancements and international collaboration in space exploration. Her focus is on how the Apollo missions set the stage for future missions and influenced global space policies.\n",
            "--------------------------------------------------\n",
            "Name: Prof. James Liu\n",
            "Affiliation: MIT\n",
            "Role: Astrophysicist\n",
            "Description: Prof. Liu examines the scientific breakthroughs resulting from the Apollo missions, particularly in astrophysics and planetary science. He is interested in how these missions expanded our understanding of the Moon and other celestial bodies, and their implications for future exploration.\n",
            "--------------------------------------------------\n",
            "Name: Dr. Sarah Thompson\n",
            "Affiliation: Space Policy Institute\n",
            "Role: Space Policy Analyst\n",
            "Description: Dr. Thompson analyzes the political and economic effects of the Apollo missions on space policy and funding. She focuses on how the missions shaped public perception of space exploration and influenced government priorities in the decades that followed.\n",
            "--------------------------------------------------\n"
          ]
        }
      ],
      "source": [
        "# Inputs\n",
        "max_analysts = 3\n",
        "topic = \"the effects of the apollo missions on space exploration\"\n",
        "config = {\"configurable\": {\"thread_id\": \"2\"}}\n",
        "\n",
        "# Run the graph until the first interruption\n",
        "for event in graph.stream({\"topic\":topic,\n",
        "                           \"max_analysts\":max_analysts},\n",
        "                          config,\n",
        "                          stream_mode=\"values\"):\n",
        "\n",
        "    print(event)\n",
        "    analysts = event.get('analysts', '')\n",
        "    if analysts:\n",
        "        for analyst in analysts:\n",
        "            print(f\"Name: {analyst.name}\")\n",
        "            print(f\"Affiliation: {analyst.affiliation}\")\n",
        "            print(f\"Role: {analyst.role}\")\n",
        "            print(f\"Description: {analyst.description}\")\n",
        "            print(\"-\" * 50)"
      ]
    },
    {
      "cell_type": "code",
      "execution_count": null,
      "metadata": {
        "id": "WQTMeE4EJ1FY",
        "outputId": "1596f02c-1465-4291-d720-fae64900ca23"
      },
      "outputs": [
        {
          "data": {
            "text/plain": [
              "('get_human_feedback',)"
            ]
          },
          "execution_count": 49,
          "metadata": {},
          "output_type": "execute_result"
        }
      ],
      "source": [
        "graph.get_state(config=config).next"
      ]
    },
    {
      "cell_type": "code",
      "execution_count": null,
      "metadata": {
        "id": "zNy0Qo1UJ1FY",
        "outputId": "f6ac4318-4170-41ab-cfb2-faba424d3c08"
      },
      "outputs": [
        {
          "data": {
            "text/plain": [
              "{'configurable': {'thread_id': '2',\n",
              "  'checkpoint_ns': '',\n",
              "  'checkpoint_id': '1efb550f-cc55-6f82-8002-539f9f4e7007'}}"
            ]
          },
          "execution_count": 50,
          "metadata": {},
          "output_type": "execute_result"
        }
      ],
      "source": [
        "# We now update the state as if we are the human_feedback node\n",
        "graph.update_state(config, {\"human_feedback\":\n",
        "                                \"replace one with someone from the ESA\"}, as_node=\"get_human_feedback\")"
      ]
    },
    {
      "cell_type": "code",
      "execution_count": null,
      "metadata": {
        "id": "K5L84Oz9J1FY",
        "outputId": "e57fcf30-0a60-4408-9824-fe736eaeb610"
      },
      "outputs": [
        {
          "name": "stdout",
          "output_type": "stream",
          "text": [
            "{'topic': 'the effects of the apollo missions on space exploration', 'max_analysts': 3, 'human_feedback': 'replace one with someone from the ESA', 'analysts': [Analyst(affiliation='NASA', name='Dr. Emily Carter', role='Space Exploration Historian', description='Dr. Carter specializes in the historical impact of space missions on technological advancements and international collaboration in space exploration. Her focus is on how the Apollo missions set the stage for future missions and influenced global space policies.'), Analyst(affiliation='MIT', name='Prof. James Liu', role='Astrophysicist', description='Prof. Liu examines the scientific breakthroughs resulting from the Apollo missions, particularly in astrophysics and planetary science. He is interested in how these missions expanded our understanding of the Moon and other celestial bodies, and their implications for future exploration.'), Analyst(affiliation='Space Policy Institute', name='Dr. Sarah Thompson', role='Space Policy Analyst', description='Dr. Thompson analyzes the political and economic effects of the Apollo missions on space policy and funding. She focuses on how the missions shaped public perception of space exploration and influenced government priorities in the decades that followed.')], 'sections': []}\n",
            "--------------------\n",
            "{'topic': 'the effects of the apollo missions on space exploration', 'max_analysts': 3, 'human_feedback': 'replace one with someone from the ESA', 'analysts': [Analyst(affiliation='NASA', name='Dr. Emily Carter', role='Space Exploration Historian', description=\"Dr. Carter specializes in the historical impacts of space missions, particularly the Apollo program, on subsequent space exploration initiatives. She focuses on how Apollo's successes and failures shaped policy and technological advancements in the field.\"), Analyst(affiliation='European Space Agency (ESA)', name='Dr. Marco Rossi', role='International Space Policy Analyst', description='Dr. Rossi examines the global implications of the Apollo missions, particularly how they influenced international collaboration in space exploration. His work emphasizes the role of the Apollo program in fostering partnerships between space agencies worldwide.'), Analyst(affiliation='MIT', name='Dr. Sarah Thompson', role='Astrophysics Researcher', description='Dr. Thompson investigates the scientific advancements that emerged from the Apollo missions, including their contributions to our understanding of the Moon and beyond. She is particularly interested in how these findings have informed current and future space exploration missions.')], 'sections': []}\n",
            "--------------------\n"
          ]
        }
      ],
      "source": [
        "# Check\n",
        "for event in graph.stream(None, config, stream_mode=\"values\"):\n",
        "    print(event)\n",
        "    print(\"-\" * 20)"
      ]
    },
    {
      "cell_type": "code",
      "execution_count": null,
      "metadata": {
        "id": "ToSpmqjNJ1FZ",
        "outputId": "a4da09b2-9353-48e2-a3ad-9b4c1b3b69e3"
      },
      "outputs": [
        {
          "data": {
            "text/plain": [
              "{'configurable': {'thread_id': '2',\n",
              "  'checkpoint_ns': '',\n",
              "  'checkpoint_id': '1efb550f-f692-6c1e-8004-d69ec9e72636'}}"
            ]
          },
          "execution_count": 52,
          "metadata": {},
          "output_type": "execute_result"
        }
      ],
      "source": [
        "# Confirm we are config\n",
        "graph.update_state(config, {\"human_feedback\":\n",
        "                            None}, as_node=\"get_human_feedback\")"
      ]
    },
    {
      "cell_type": "code",
      "execution_count": null,
      "metadata": {
        "id": "Gr7Pk9YyJ1FZ",
        "outputId": "a80cc262-4def-4989-ae45-27b1a8f85a6a"
      },
      "outputs": [
        {
          "name": "stdout",
          "output_type": "stream",
          "text": [
            "--Node--\n",
            "conduct_interview\n",
            "--Node--\n",
            "conduct_interview\n",
            "--Node--\n",
            "conduct_interview\n",
            "--Node--\n",
            "write_introduction\n",
            "--Node--\n",
            "write_conclusion\n",
            "--Node--\n",
            "write_report\n",
            "--Node--\n",
            "finalize_report\n"
          ]
        }
      ],
      "source": [
        "# Continue\n",
        "for event in graph.stream(None, config, stream_mode=\"updates\"):\n",
        "    print(\"--Node--\")\n",
        "    node_name = next(iter(event.keys()))\n",
        "    print(node_name)"
      ]
    },
    {
      "cell_type": "code",
      "execution_count": null,
      "metadata": {
        "id": "yNRb8DtGJ1FZ",
        "outputId": "266554ff-2606-42bc-a2a9-4f18014170a8"
      },
      "outputs": [
        {
          "data": {
            "text/markdown": [
              "# The Apollo Missions: A Catalyst for Future Exploration\n",
              "\n",
              "## Introduction\n",
              "\n",
              "The Apollo program, culminating in the historic Apollo 11 mission, represents a watershed moment in human space exploration, achieving the first manned Moon landing in 1969. This report delves into the enduring legacy of the Apollo missions, examining their profound impact on modern space exploration, international collaboration, and scientific advancement. We explore how Apollo not only inspired global interest in space but also fostered technological innovations that permeate various industries today. Additionally, we highlight the program's influence on contemporary initiatives like Artemis and the lessons learned that continue to shape the future of human spaceflight.\n",
              "\n",
              "---\n",
              "\n",
              "\n",
              "The Apollo missions, particularly the landmark Apollo 11 mission, represent a transformative chapter in human space exploration, achieving the first successful manned Moon landing in 1969. This monumental event not only showcased the feasibility of human space travel but also sparked a wave of technological advancements and international collaborations that continue to shape space exploration today. The Apollo program ignited a renewed global interest in space, leading to significant investments in space programs worldwide and fostering a spirit of innovation that transcended national borders.\n",
              "\n",
              "The technological innovations developed during the Apollo missions, such as advancements in materials science, telecommunications, and robotics, have had far-reaching applications beyond space exploration, revolutionizing industries from aviation to medicine. The Apollo program has also had a lasting cultural impact, inspiring generations of scientists, engineers, and astronauts, and contributing to increased enrollment in STEM fields. The legacy of Apollo is evident in contemporary initiatives like NASA's Artemis program, which aims to return humans to the Moon and eventually send astronauts to Mars. The lessons learned from Apollo, particularly regarding safety and rigorous testing protocols, have become foundational to modern space missions.\n",
              "\n",
              "Moreover, the Apollo missions played a crucial role in fostering international collaboration in space exploration. They established a framework for cooperation among nations that had previously been rivals in the space race. The partnerships formed during this era demonstrated the potential for shared resources, expertise, and technology to lead to groundbreaking achievements. The Apollo-Soyuz mission in 1975 symbolized a new era of peaceful collaboration between the United States and the Soviet Union, reinforcing the importance of international partnerships in advancing space exploration.\n",
              "\n",
              "The ripple effect of the Apollo program inspired countries like France, Japan, and China to enhance their own space initiatives, leading to increased funding and the establishment of new space agencies. The collaborative spirit fostered by the Apollo missions continues to resonate in contemporary space endeavors, informing strategies for joint missions and resource sharing. However, the landscape of global collaboration is not without challenges, as political dynamics and varying levels of investment can complicate partnerships.\n",
              "\n",
              "The scientific legacy of the Apollo missions is profound, having significantly advanced our understanding of the Moon and the broader dynamics of our solar system. The return of lunar materials allowed for in-depth analyses of the Moon's geology, revealing critical insights into its composition and the geological processes that shaped its surface over billions of years. This foundational research has laid the groundwork for future explorations and continues to inspire ongoing inquiries into planetary science.\n",
              "\n",
              "As we reflect on the Apollo Program, it is clear that its influence extends beyond space exploration; it has shaped societal attitudes towards science and technology, reinforcing the importance of continued investment in these areas. The lessons learned from the Apollo missions highlight the significance of ambition, collaboration, and perseverance in the quest for knowledge about our universe. The Apollo missions not only set a benchmark for human spaceflight but also established a framework for future exploration endeavors, reminding us that collective efforts can lead to extraordinary accomplishments.\n",
              "\n",
              "\n",
              "---\n",
              "\n",
              "## Conclusion\n",
              "\n",
              "The Apollo missions stand as a monumental achievement in human history, fundamentally transforming the landscape of space exploration. From the groundbreaking Apollo 11 mission that first landed humans on the Moon to the international collaborations fostered during the Apollo-Soyuz mission, the program established a legacy of innovation and cooperation. The technological advancements and scientific insights gained from lunar exploration have not only enriched our understanding of the Moon but have also laid the groundwork for contemporary initiatives like the Artemis program. As we look to the future, the spirit of ambition, collaboration, and resilience that characterized the Apollo era continues to inspire new generations and guide our quest for knowledge beyond our planet.\n",
              "\n",
              "## Sources\n",
              "[1] https://library.fiveable.me/key-terms/ap-world/apollo-11-mission  \n",
              "[2] https://moon-mission.info/exploring-the-apollo-program-past-and-present-impacts/  \n",
              "[3] https://apollo11space.com/apollo-programs-impact-science-society-and-space-exploration/  \n",
              "[4] https://en.wikipedia.org/wiki/Apollo_program  \n",
              "[5] https://en.wikipedia.org/wiki/Artemis_II  \n",
              "[6] https://ntrs.nasa.gov/api/citations/20120013187/downloads/20120013187.pdf  \n",
              "[7] https://apollo11space.com/the-apollo-1-tragedy-a-look-back-at-the-fateful-mission/  \n",
              "[8] https://en.wikipedia.org/wiki/Apollo_1  \n",
              "[9] https://en.wikipedia.org/wiki/Apollo_13  \n",
              "[10] https://moon-mission.info/international-collaborations-in-apollo-missions-a-close-look/  \n",
              "[11] https://www.thespacereview.com/article/3328/1  \n",
              "[12] https://newspaceeconomy.ca/2023/11/14/global-collaboration-in-space-benefits-and-challenges/  \n",
              "[13] https://apollo11space.com/how-the-apollo-program-shaped-international-relations/  \n",
              "[14] https://apollo11space.com/how-did-the-apollo-missions-impact-science/  \n",
              "[15] https://pubs.aip.org/physicstoday/article/72/7/44/982029/The-scientific-legacy-of-the-Apollo-programThis  \n",
              "[16] https://en.wikipedia.org/wiki/Apollo_16  \n",
              "[17] https://en.wikipedia.org/wiki/Sample-return_missio"
            ],
            "text/plain": [
              "<IPython.core.display.Markdown object>"
            ]
          },
          "execution_count": 56,
          "metadata": {},
          "output_type": "execute_result"
        }
      ],
      "source": [
        "from IPython.display import Markdown\n",
        "final_state = graph.get_state(config)\n",
        "report = final_state.values.get('report_final')\n",
        "Markdown(report)"
      ]
    }
  ],
  "metadata": {
    "colab": {
      "provenance": []
    },
    "kernelspec": {
      "display_name": "langgraph-course",
      "language": "python",
      "name": "python3"
    },
    "language_info": {
      "codemirror_mode": {
        "name": "ipython",
        "version": 3
      },
      "file_extension": ".py",
      "mimetype": "text/x-python",
      "name": "python",
      "nbconvert_exporter": "python",
      "pygments_lexer": "ipython3",
      "version": "3.12.7"
    }
  },
  "nbformat": 4,
  "nbformat_minor": 0
}
